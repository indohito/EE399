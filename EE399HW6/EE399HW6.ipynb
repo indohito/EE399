{
 "cells": [
  {
   "cell_type": "code",
   "execution_count": 27,
   "id": "a5ff86f6",
   "metadata": {},
   "outputs": [],
   "source": [
    "# https://github.com/indohito/EE399/tree/main/EE399HW6\n",
    "import numpy as np\n",
    "from processdata import load_data\n",
    "from processdata import TimeSeriesDataset\n",
    "import models\n",
    "import torch\n",
    "import matplotlib.pyplot as plt\n",
    "from sklearn.preprocessing import MinMaxScaler"
   ]
  },
  {
   "cell_type": "code",
   "execution_count": 29,
   "id": "b0f7407a",
   "metadata": {},
   "outputs": [],
   "source": [
    "num_sensors = 3 \n",
    "lags = 52\n",
    "gaussian_noise = 0\n",
    "load_X = load_data('SST')\n",
    "n = load_X.shape[0]\n",
    "m = load_X.shape[1]\n",
    "sc = MinMaxScaler()\n",
    "device = 'cuda' if torch.cuda.is_available() else 'cpu'"
   ]
  },
  {
   "cell_type": "code",
   "execution_count": 57,
   "id": "f2a0316c",
   "metadata": {},
   "outputs": [],
   "source": [
    "def get_dataset(sc, device, load_X, num_sensors, lags, gaussian_noise):\n",
    "    sensor_locations = np.random.choice(m, size=num_sensors, replace=False)\n",
    "    train_indices = np.random.choice(n - lags, size=1000, replace=False)\n",
    "    mask = np.ones(n - lags)\n",
    "    mask[train_indices] = 0\n",
    "    valid_test_indices = np.arange(0, n - lags)[np.where(mask!=0)[0]]\n",
    "    valid_indices = valid_test_indices[::2]\n",
    "    test_indices = valid_test_indices[1::2]\n",
    "    \n",
    "    ### create gaussian noise to add to data\n",
    "    noise = np.random.normal(0, 1, (n, m)) * gaussian_noise\n",
    "    sc = sc.fit(load_X[train_indices])\n",
    "    transformed_X = sc.transform(load_X) + noise\n",
    "    \n",
    "    ### Generate input sequences to a SHRED model\n",
    "    all_data_in = np.zeros((n - lags, lags, num_sensors))\n",
    "    for i in range(len(all_data_in)):\n",
    "        all_data_in[i] = transformed_X[i:i+lags, sensor_locations]\n",
    "        \n",
    "    ### Generate training validation and test datasets both for reconstruction of states and forecasting sensors\n",
    "\n",
    "    train_data_in = torch.tensor(all_data_in[train_indices], dtype=torch.float32).to(device)\n",
    "    valid_data_in = torch.tensor(all_data_in[valid_indices], dtype=torch.float32).to(device)\n",
    "    test_data_in = torch.tensor(all_data_in[test_indices], dtype=torch.float32).to(device)\n",
    "\n",
    "    ### -1 to have output be at the same time as final sensor measurements\n",
    "    train_data_out = torch.tensor(transformed_X[train_indices + lags - 1], dtype=torch.float32).to(device)\n",
    "    valid_data_out = torch.tensor(transformed_X[valid_indices + lags - 1], dtype=torch.float32).to(device)\n",
    "    test_data_out = torch.tensor(transformed_X[test_indices + lags - 1], dtype=torch.float32).to(device)\n",
    "\n",
    "    train_dataset = TimeSeriesDataset(train_data_in, train_data_out)\n",
    "    valid_dataset = TimeSeriesDataset(valid_data_in, valid_data_out)\n",
    "    test_dataset = TimeSeriesDataset(test_data_in, test_data_out)\n",
    "    \n",
    "    return train_dataset, valid_dataset, test_dataset\n"
   ]
  },
  {
   "cell_type": "code",
   "execution_count": 21,
   "id": "135cda4c",
   "metadata": {},
   "outputs": [],
   "source": [
    "train_dataset, valid_dataset, test_dataset = get_dataset(sc, device, load_X, num_sensors, lags, gaussian_noise)"
   ]
  },
  {
   "cell_type": "code",
   "execution_count": 24,
   "id": "528a2fb6",
   "metadata": {},
   "outputs": [
    {
     "name": "stdout",
     "output_type": "stream",
     "text": [
      "Training epoch 1\n",
      "Error tensor(0.4760)\n",
      "Training epoch 20\n",
      "Error tensor(0.2202)\n",
      "Training epoch 40\n",
      "Error tensor(0.2163)\n",
      "Training epoch 60\n",
      "Error tensor(0.2139)\n",
      "Training epoch 80\n",
      "Error tensor(0.2153)\n",
      "Training epoch 100\n",
      "Error tensor(0.2141)\n"
     ]
    }
   ],
   "source": [
    "shred = models.SHRED(num_sensors, m, hidden_size=64, hidden_layers=2, l1=350, l2=400, dropout=0.1).to(device)\n",
    "validation_errors = models.fit(shred, train_dataset, valid_dataset, batch_size=64, num_epochs=100, lr=1e-3, verbose=True, patience=5)"
   ]
  },
  {
   "cell_type": "code",
   "execution_count": 25,
   "id": "904b4ad2",
   "metadata": {},
   "outputs": [
    {
     "name": "stdout",
     "output_type": "stream",
     "text": [
      "0.035793632\n"
     ]
    }
   ],
   "source": [
    "test_recons = sc.inverse_transform(shred(test_dataset.X).detach().cpu().numpy())\n",
    "test_ground_truth = sc.inverse_transform(test_dataset.Y.detach().cpu().numpy())\n",
    "print(np.linalg.norm(test_recons - test_ground_truth) / np.linalg.norm(test_ground_truth))\n"
   ]
  },
  {
   "cell_type": "code",
   "execution_count": null,
   "id": "6d3cab01",
   "metadata": {},
   "outputs": [],
   "source": []
  },
  {
   "cell_type": "code",
   "execution_count": 30,
   "id": "28d64f14",
   "metadata": {},
   "outputs": [],
   "source": [
    "num_sensors = 3 \n",
    "lags_change = [11, 22, 33, 44, 52]\n",
    "gaussian_noise = 0"
   ]
  },
  {
   "cell_type": "code",
   "execution_count": 31,
   "id": "c977fd45",
   "metadata": {},
   "outputs": [
    {
     "name": "stdout",
     "output_type": "stream",
     "text": [
      "Training epoch 1\n",
      "Error tensor(0.4697)\n",
      "Training epoch 20\n",
      "Error tensor(0.2390)\n",
      "Training epoch 40\n",
      "Error tensor(0.2257)\n",
      "Training epoch 60\n",
      "Error tensor(0.2185)\n",
      "Training epoch 80\n",
      "Error tensor(0.2148)\n",
      "Training epoch 100\n",
      "Error tensor(0.2093)\n",
      "Training epoch 1\n",
      "Error tensor(0.4747)\n",
      "Training epoch 20\n",
      "Error tensor(0.2445)\n",
      "Training epoch 40\n",
      "Error tensor(0.2206)\n",
      "Training epoch 60\n",
      "Error tensor(0.2219)\n",
      "Training epoch 80\n",
      "Error tensor(0.2163)\n",
      "Training epoch 100\n",
      "Error tensor(0.2084)\n",
      "Training epoch 1\n",
      "Error tensor(0.4727)\n",
      "Training epoch 20\n",
      "Error tensor(0.2221)\n",
      "Training epoch 40\n",
      "Error tensor(0.2146)\n",
      "Training epoch 60\n",
      "Error tensor(0.2108)\n",
      "Training epoch 80\n",
      "Error tensor(0.2052)\n",
      "Training epoch 100\n",
      "Error tensor(0.1979)\n",
      "Training epoch 1\n",
      "Error tensor(0.4799)\n",
      "Training epoch 20\n",
      "Error tensor(0.2227)\n",
      "Training epoch 40\n",
      "Error tensor(0.2148)\n",
      "Training epoch 60\n",
      "Error tensor(0.2132)\n",
      "Training epoch 80\n",
      "Error tensor(0.2098)\n",
      "Training epoch 100\n",
      "Error tensor(0.2029)\n",
      "Training epoch 1\n",
      "Error tensor(0.4908)\n",
      "Training epoch 20\n",
      "Error tensor(0.2318)\n",
      "Training epoch 40\n",
      "Error tensor(0.2219)\n",
      "Training epoch 60\n",
      "Error tensor(0.2211)\n",
      "Training epoch 80\n",
      "Error tensor(0.2203)\n",
      "Training epoch 100\n",
      "Error tensor(0.2207)\n"
     ]
    }
   ],
   "source": [
    "lag_charting = []\n",
    "for l in lags_change:\n",
    "    train_dataset_lag, valid_dataset_lag, test_dataset_lag = get_dataset(sc, device, load_X, num_sensors, l, gaussian_noise)\n",
    "    shred = models.SHRED(num_sensors, m, hidden_size=64, hidden_layers=2, l1=350, l2=400, dropout=0.1).to(device)\n",
    "    validation_errors = models.fit(shred, train_dataset_lag, valid_dataset_lag, batch_size=64, num_epochs=100, lr=1e-3, verbose=True, patience=5)\n",
    "    test_recons = sc.inverse_transform(shred(test_dataset.X).detach().cpu().numpy())\n",
    "    test_ground_truth = sc.inverse_transform(test_dataset.Y.detach().cpu().numpy())\n",
    "    mse_lag = np.linalg.norm(test_recons - test_ground_truth) / np.linalg.norm(test_ground_truth)\n",
    "    lag_charting.append(mse_lag)\n",
    "    "
   ]
  },
  {
   "cell_type": "code",
   "execution_count": 34,
   "id": "728ad168",
   "metadata": {},
   "outputs": [
    {
     "data": {
      "text/plain": [
       "<matplotlib.collections.PathCollection at 0x23200faaeb0>"
      ]
     },
     "execution_count": 34,
     "metadata": {},
     "output_type": "execute_result"
    },
    {
     "data": {
      "image/png": "[encoded data removed]",
      "text/plain": [
       "<Figure size 640x480 with 1 Axes>"
      ]
     },
     "metadata": {},
     "output_type": "display_data"
    }
   ],
   "source": [
    "plt.figure()\n",
    "plt.title(\"SHRED performance with differing lags\")\n",
    "plt.xlabel(\"lags\")\n",
    "plt.ylabel(\"MSE\")\n",
    "plt.scatter(lags_change, lag_charting)"
   ]
  },
  {
   "cell_type": "code",
   "execution_count": 35,
   "id": "707c219d",
   "metadata": {},
   "outputs": [],
   "source": [
    "num_sensors = 3\n",
    "lags = 52\n",
    "gaussian_noise = [0, .26, .55, .77, 1]"
   ]
  },
  {
   "cell_type": "code",
   "execution_count": 37,
   "id": "12e0be04",
   "metadata": {},
   "outputs": [
    {
     "name": "stdout",
     "output_type": "stream",
     "text": [
      "Training epoch 1\n",
      "Error tensor(0.4674)\n",
      "Training epoch 20\n",
      "Error tensor(0.2230)\n",
      "Training epoch 40\n",
      "Error tensor(0.2181)\n",
      "Training epoch 60\n",
      "Error tensor(0.2155)\n",
      "Training epoch 80\n",
      "Error tensor(0.2126)\n",
      "Training epoch 100\n",
      "Error tensor(0.2069)\n",
      " \n",
      "Training epoch 1\n",
      "Error tensor(0.6374)\n",
      "Training epoch 20\n",
      "Error tensor(0.5235)\n",
      "Training epoch 40\n",
      "Error tensor(0.5231)\n",
      "Training epoch 60\n",
      "Error tensor(0.5221)\n",
      "Training epoch 80\n",
      "Error tensor(0.5216)\n",
      "Training epoch 100\n",
      "Error tensor(0.5201)\n",
      " \n",
      "Training epoch 1\n",
      "Error tensor(0.8186)\n",
      "Training epoch 20\n",
      "Error tensor(0.7777)\n",
      "Training epoch 40\n",
      "Error tensor(0.7770)\n",
      "Training epoch 60\n",
      "Error tensor(0.7769)\n",
      "Training epoch 80\n",
      "Error tensor(0.7782)\n",
      "Training epoch 100\n",
      "Error tensor(0.7813)\n",
      " \n",
      "Training epoch 1\n",
      "Error tensor(0.8877)\n",
      "Training epoch 20\n",
      "Error tensor(0.8642)\n",
      "Training epoch 40\n",
      "Error tensor(0.8648)\n",
      "Training epoch 60\n",
      "Error tensor(0.8674)\n",
      "Training epoch 80\n",
      "Error tensor(0.8720)\n",
      "Training epoch 100\n",
      "Error tensor(0.8840)\n",
      " \n",
      "Training epoch 1\n",
      "Error tensor(0.9276)\n",
      "Training epoch 20\n",
      "Error tensor(0.9116)\n",
      "Training epoch 40\n",
      "Error tensor(0.9128)\n",
      "Training epoch 60\n",
      "Error tensor(0.9186)\n",
      "Training epoch 80\n",
      "Error tensor(0.9315)\n",
      "Training epoch 100\n",
      "Error tensor(0.9456)\n",
      " \n"
     ]
    }
   ],
   "source": [
    "gause_charting = []\n",
    "for g in gaussian_noise:\n",
    "    train_dataset_gause, valid_dataset_gause, test_dataset_gause = get_dataset(sc, device, load_X, num_sensors, lags, g)\n",
    "    shred = models.SHRED(num_sensors, m, hidden_size=64, hidden_layers=2, l1=350, l2=400, dropout=0.1).to(device)\n",
    "    validation_errors = models.fit(shred, train_dataset_gause, valid_dataset_gause, batch_size=64, num_epochs=100, lr=1e-3, verbose=True, patience=5)\n",
    "    test_recons = sc.inverse_transform(shred(test_dataset_gause.X).detach().cpu().numpy())\n",
    "    test_ground_truth = sc.inverse_transform(test_dataset_gause.Y.detach().cpu().numpy())\n",
    "    mse_lag = np.linalg.norm(test_recons - test_ground_truth) / np.linalg.norm(test_ground_truth)\n",
    "    gause_charting.append(mse_lag)\n",
    "    print(\" \")"
   ]
  },
  {
   "cell_type": "code",
   "execution_count": 40,
   "id": "e7949d55",
   "metadata": {},
   "outputs": [
    {
     "data": {
      "text/plain": [
       "<matplotlib.collections.PathCollection at 0x2320252e790>"
      ]
     },
     "execution_count": 40,
     "metadata": {},
     "output_type": "execute_result"
    },
    {
     "data": {
      "image/png": "[encoded data removed]",
      "text/plain": [
       "<Figure size 640x480 with 1 Axes>"
      ]
     },
     "metadata": {},
     "output_type": "display_data"
    }
   ],
   "source": [
    "plt.figure()\n",
    "plt.title(\"SHRED performance with differign gaussian noise\")\n",
    "plt.xlabel(\"gaussian noise\")\n",
    "plt.ylabel(\"MSE\")\n",
    "plt.scatter(gaussian_noise, gause_charting)"
   ]
  },
  {
   "cell_type": "code",
   "execution_count": 58,
   "id": "bbf469c0",
   "metadata": {},
   "outputs": [],
   "source": [
    "num_sensors_change = [3, 4, 5, 6, 7]\n",
    "lags = 52\n",
    "gaussian_noise = 0"
   ]
  },
  {
   "cell_type": "code",
   "execution_count": 60,
   "id": "f107e0d7",
   "metadata": {},
   "outputs": [
    {
     "name": "stdout",
     "output_type": "stream",
     "text": [
      "Training epoch 1\n",
      "Error tensor(0.4926)\n",
      "Training epoch 20\n",
      "Error tensor(0.2299)\n",
      "Training epoch 40\n",
      "Error tensor(0.2238)\n",
      "Training epoch 60\n",
      "Error tensor(0.2223)\n",
      "Training epoch 80\n",
      "Error tensor(0.2215)\n",
      "Training epoch 100\n",
      "Error tensor(0.2187)\n",
      " \n",
      "Training epoch 1\n",
      "Error tensor(0.4762)\n",
      "Training epoch 20\n",
      "Error tensor(0.2227)\n",
      "Training epoch 40\n",
      "Error tensor(0.2168)\n",
      "Training epoch 60\n",
      "Error tensor(0.2162)\n",
      "Training epoch 80\n",
      "Error tensor(0.2163)\n",
      "Training epoch 100\n",
      "Error tensor(0.2162)\n",
      " \n",
      "Training epoch 1\n",
      "Error tensor(0.4764)\n",
      "Training epoch 20\n",
      "Error tensor(0.2200)\n",
      "Training epoch 40\n",
      "Error tensor(0.2168)\n",
      "Training epoch 60\n",
      "Error tensor(0.2085)\n",
      "Training epoch 80\n",
      "Error tensor(0.2052)\n",
      "Training epoch 100\n",
      "Error tensor(0.1965)\n",
      " \n",
      "Training epoch 1\n",
      "Error tensor(0.4733)\n",
      "Training epoch 20\n",
      "Error tensor(0.2209)\n",
      "Training epoch 40\n",
      "Error tensor(0.2037)\n",
      "Training epoch 60\n",
      "Error tensor(0.1950)\n",
      "Training epoch 80\n",
      "Error tensor(0.1798)\n",
      "Training epoch 100\n",
      "Error tensor(0.1701)\n",
      " \n",
      "Training epoch 1\n",
      "Error tensor(0.4702)\n",
      "Training epoch 20\n",
      "Error tensor(0.2197)\n",
      "Training epoch 40\n",
      "Error tensor(0.1980)\n",
      "Training epoch 60\n",
      "Error tensor(0.1935)\n",
      "Training epoch 80\n",
      "Error tensor(0.1889)\n",
      "Training epoch 100\n",
      "Error tensor(0.1824)\n",
      " \n"
     ]
    }
   ],
   "source": [
    "sensor_charting = []\n",
    "for s in num_sensors_change:\n",
    "    train_dataset_sen, valid_dataset_sen, test_dataset_sen = get_dataset(sc, device, load_X, s, lags, gaussian_noise)\n",
    "    shred = models.SHRED(s, m, hidden_size=64, hidden_layers=2, l1=350, l2=400, dropout=0.1).to(device)\n",
    "    validation_errors = models.fit(shred, train_dataset_sen, valid_dataset_sen, batch_size=64, num_epochs=100, lr=1e-3, verbose=True, patience=5)\n",
    "    test_recons = sc.inverse_transform(shred(test_dataset_sen.X).detach().cpu().numpy())\n",
    "    test_ground_truth = sc.inverse_transform(test_dataset_sen.Y.detach().cpu().numpy())\n",
    "    mse_lag = np.linalg.norm(test_recons - test_ground_truth) / np.linalg.norm(test_ground_truth)\n",
    "    sensor_charting.append(mse_lag)\n",
    "    print(\" \")"
   ]
  },
  {
   "cell_type": "code",
   "execution_count": 62,
   "id": "714005f6",
   "metadata": {},
   "outputs": [
    {
     "data": {
      "text/plain": [
       "<matplotlib.collections.PathCollection at 0x232021f6b50>"
      ]
     },
     "execution_count": 62,
     "metadata": {},
     "output_type": "execute_result"
    },
    {
     "data": {
      "image/png": "[encoded data removed]",
      "text/plain": [
       "<Figure size 640x480 with 1 Axes>"
      ]
     },
     "metadata": {},
     "output_type": "display_data"
    }
   ],
   "source": [
    "plt.figure()\n",
    "plt.title(\"SHRED performance with differing num sensors\")\n",
    "plt.xlabel(\"num sensors\")\n",
    "plt.ylabel(\"MSE\")\n",
    "plt.scatter(num_sensors, sensor_charting)"
   ]
  },
  {
   "cell_type": "code",
   "execution_count": null,
   "id": "4967fb6e",
   "metadata": {},
   "outputs": [],
   "source": []
  }
 ],
 "metadata": {
  "kernelspec": {
   "display_name": "Python 3 (ipykernel)",
   "language": "python",
   "name": "python3"
  },
  "language_info": {
   "codemirror_mode": {
    "name": "ipython",
    "version": 3
   },
   "file_extension": ".py",
   "mimetype": "text/x-python",
   "name": "python",
   "nbconvert_exporter": "python",
   "pygments_lexer": "ipython3",
   "version": "3.9.13"
  }
 },
 "nbformat": 4,
 "nbformat_minor": 5
}
